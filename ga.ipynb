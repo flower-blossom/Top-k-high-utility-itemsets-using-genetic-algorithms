{
 "cells": [
  {
   "cell_type": "code",
   "execution_count": 1,
   "metadata": {},
   "outputs": [],
   "source": [
    "from ga import Genetic\n",
    "from IO import DataWarehouse\n",
    "from pathlib import Path\n",
    "import os"
   ]
  },
  {
   "cell_type": "markdown",
   "metadata": {},
   "source": [
    "# Helper function"
   ]
  },
  {
   "cell_type": "code",
   "execution_count": 2,
   "metadata": {},
   "outputs": [],
   "source": [
    "def write_output(solution: list[dict], file_name: str, data) -> None:\n",
    "    \n",
    "    output_file_multiple_sets = file_name\n",
    "    with open(output_file_multiple_sets, \"w\") as file:\n",
    "        for s in solution:\n",
    "            sorted_elements = sorted(s)\n",
    "            line = \" \".join(map(str, sorted_elements)) + f\" #UTIL: {Genetic.evaluation(s, data)}\"\n",
    "            file.write(line + \"\\n\")"
   ]
  },
  {
   "cell_type": "code",
   "execution_count": null,
   "metadata": {},
   "outputs": [],
   "source": []
  },
  {
   "cell_type": "code",
   "execution_count": 3,
   "metadata": {},
   "outputs": [],
   "source": [
    "def write_output(solution: list[dict], file_name: str, data) -> None:\n",
    "    \n",
    "    output_file_multiple_sets = file_name\n",
    "    with open(output_file_multiple_sets, \"w\") as file:\n",
    "        for s in solution:\n",
    "            sorted_elements = sorted(s)\n",
    "            line = \" \".join(map(str, sorted_elements)) + f\" #UTIL: {Genetic.evaluation(s, data)}\"\n",
    "            file.write(line + \"\\n\")"
   ]
  },
  {
   "cell_type": "markdown",
   "metadata": {},
   "source": [
    "# Run through all data"
   ]
  },
  {
   "cell_type": "code",
   "execution_count": null,
   "metadata": {},
   "outputs": [
    {
     "name": "stdout",
     "output_type": "stream",
     "text": [
      "accidents_negative\n"
     ]
    }
   ],
   "source": [
    "folder_path = Path(\"data\")\n",
    "all_files = folder_path.glob(\"*\")\n",
    "\n",
    "ga = Genetic(\n",
    "    number_of_population=25,\n",
    "    m=10,\n",
    "    quantity_of_elite=15,\n",
    "    k_tournament=5,\n",
    "    number_population_s=5,\n",
    "    stop_criteria_loop=100,\n",
    "    time_limit=100,\n",
    ")\n",
    "\n",
    "for file_path in all_files:\n",
    "    data_name = os.path.splitext(os.path.basename(file_path))[0]\n",
    "    dir_output = os.path.join(\"outputs\", data_name)\n",
    "    print(data_name)\n",
    "    if not os.path.exists(dir_output):\n",
    "        os.makedirs(dir_output)\n",
    "\n",
    "    with file_path.open(\"r\", encoding=\"utf-8\") as file:\n",
    "        data = DataWarehouse(file.read())\n",
    "        for i in range(0, 5):\n",
    "            solution = ga.solve(data)\n",
    "            write_output(\n",
    "                solution, f\"{dir_output}/sol_{i}\", data\n",
    "            )"
   ]
  }
 ],
 "metadata": {
  "kernelspec": {
   "display_name": "Python 3",
   "language": "python",
   "name": "python3"
  },
  "language_info": {
   "codemirror_mode": {
    "name": "ipython",
    "version": 3
   },
   "file_extension": ".py",
   "mimetype": "text/x-python",
   "name": "python",
   "nbconvert_exporter": "python",
   "pygments_lexer": "ipython3",
   "version": "3.10.11"
  }
 },
 "nbformat": 4,
 "nbformat_minor": 2
}
