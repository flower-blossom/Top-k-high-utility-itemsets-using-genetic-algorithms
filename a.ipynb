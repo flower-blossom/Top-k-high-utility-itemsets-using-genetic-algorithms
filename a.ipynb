{
 "cells": [
  {
   "cell_type": "code",
   "execution_count": 1,
   "metadata": {},
   "outputs": [],
   "source": [
    "from itertools import combinations\n",
    "\n",
    "\n",
    "def list_frequent_itemsets(size, support, dataset):\n",
    "    frequent_itemsets = count_element(dataset, support)\n",
    "    if size == 1:\n",
    "        return frequent_itemsets\n",
    "    else:\n",
    "        for i in range(2, size + 1):\n",
    "            frequent_itemsets = count_items(\n",
    "                dataset, frequent_itemsets, i, support\n",
    "            )\n",
    "        return frequent_itemsets\n",
    "\n",
    "\n",
    "def count_element(data, support):\n",
    "    item_counts = {}\n",
    "    for line in data:\n",
    "        for item in line:\n",
    "            if item in item_counts:\n",
    "                item_counts[item] += 1\n",
    "            else:\n",
    "                item_counts[item] = 1\n",
    "    frequent_items = {\n",
    "        item: count for item, count in item_counts.items() if count >= support\n",
    "    }\n",
    "    return frequent_items\n",
    "\n",
    "\n",
    "def count_items(data, frequent_1_itemsets, k, support):\n",
    "    item_counts = {}\n",
    "    pairs = combinations(frequent_1_itemsets, k)\n",
    "    for pair in pairs:\n",
    "        item_counts[pair] = 0\n",
    "        for transaction in data:\n",
    "            if set(pair).issubset(set(transaction)):\n",
    "                item_counts[pair] += 1\n",
    "\n",
    "    frequent_items = {\n",
    "        item: count for item, count in item_counts.items() if count >= support\n",
    "    }\n",
    "    return frequent_items"
   ]
  },
  {
   "cell_type": "code",
   "execution_count": 2,
   "metadata": {},
   "outputs": [],
   "source": [
    "with open(file=\"data\\\\retail_negative.txt\", \"r\") as file:\n",
    "    data = [line.replace(\"\\n\", \"\").split(\",\") for line in file]"
   ]
  },
  {
   "cell_type": "code",
   "execution_count": 4,
   "metadata": {},
   "outputs": [
    {
     "data": {
      "text/plain": [
       "{}"
      ]
     },
     "execution_count": 4,
     "metadata": {},
     "output_type": "execute_result"
    }
   ],
   "source": [
    "list_frequent_itemsets(3, 100, data)"
   ]
  },
  {
   "cell_type": "code",
   "execution_count": 3,
   "metadata": {},
   "outputs": [],
   "source": [
    "import requests\n",
    "url = 'https://www.philippe-fournier-viger.com/spmf/datasets/ndatasets/kosarak_negative.txt'\n",
    "response = requests.get(url)\n",
    "data = response.text"
   ]
  }
 ],
 "metadata": {
  "kernelspec": {
   "display_name": "Python 3",
   "language": "python",
   "name": "python3"
  },
  "language_info": {
   "codemirror_mode": {
    "name": "ipython",
    "version": 3
   },
   "file_extension": ".py",
   "mimetype": "text/x-python",
   "name": "python",
   "nbconvert_exporter": "python",
   "pygments_lexer": "ipython3",
   "version": "3.10.11"
  }
 },
 "nbformat": 4,
 "nbformat_minor": 2
}
